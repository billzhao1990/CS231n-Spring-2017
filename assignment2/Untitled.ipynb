{
 "cells": [
  {
   "cell_type": "code",
   "execution_count": 1,
   "metadata": {
    "collapsed": false
   },
   "outputs": [
    {
     "name": "stdout",
     "output_type": "stream",
     "text": [
      "[[1 2 3]\n",
      " [9 5 6]\n",
      " [4 7 6]]\n",
      "[[5]]\n"
     ]
    },
    {
     "data": {
      "text/plain": [
       "(1, 0)"
      ]
     },
     "execution_count": 1,
     "metadata": {},
     "output_type": "execute_result"
    }
   ],
   "source": [
    "import numpy as np\n",
    "from numpy import unravel_index\n",
    "\n",
    "a = np.array([[1,2,3],[9,5,6],[4,7,6]])\n",
    "b = np.array([[1,1,2],[4,5,6]])\n",
    "\n",
    "print(a)\n",
    "print(a[1:-1, 1:-1])\n",
    "unravel_index(a.argmax(), a.shape)"
   ]
  },
  {
   "cell_type": "code",
   "execution_count": 2,
   "metadata": {
    "collapsed": false
   },
   "outputs": [
    {
     "data": {
      "text/plain": [
       "1"
      ]
     },
     "execution_count": 2,
     "metadata": {},
     "output_type": "execute_result"
    }
   ],
   "source": [
    "2//2"
   ]
  },
  {
   "cell_type": "code",
   "execution_count": 5,
   "metadata": {
    "collapsed": false
   },
   "outputs": [
    {
     "name": "stdout",
     "output_type": "stream",
     "text": [
      "[[[[0 0 1 4]\n",
      "   [3 2 2 4]]\n",
      "\n",
      "  [[3 3 1 2]\n",
      "   [1 4 1 4]]\n",
      "\n",
      "  [[2 1 3 4]\n",
      "   [0 0 1 0]]]\n",
      "\n",
      "\n",
      " [[[1 2 4 1]\n",
      "   [2 1 4 4]]\n",
      "\n",
      "  [[1 3 2 0]\n",
      "   [0 1 0 1]]\n",
      "\n",
      "  [[3 3 3 4]\n",
      "   [2 1 4 3]]]]\n",
      "--------------------------------------------------\n",
      "[[[[0 0 1 4]\n",
      "   [3 2 2 4]]\n",
      "\n",
      "  [[1 2 4 1]\n",
      "   [2 1 4 4]]]\n",
      "\n",
      "\n",
      " [[[3 3 1 2]\n",
      "   [1 4 1 4]]\n",
      "\n",
      "  [[1 3 2 0]\n",
      "   [0 1 0 1]]]\n",
      "\n",
      "\n",
      " [[[2 1 3 4]\n",
      "   [0 0 1 0]]\n",
      "\n",
      "  [[3 3 3 4]\n",
      "   [2 1 4 3]]]]\n",
      "--------------------------------------------------\n",
      "[[[ 0.5  1.   2.5  2.5]\n",
      "  [ 2.5  1.5  3.   4. ]]\n",
      "\n",
      " [[ 2.   3.   1.5  1. ]\n",
      "  [ 0.5  2.5  0.5  2.5]]\n",
      "\n",
      " [[ 2.5  2.   3.   4. ]\n",
      "  [ 1.   0.5  2.5  1.5]]]\n"
     ]
    }
   ],
   "source": [
    "w = np.random.randint(5, size=(2, 3, 2, 4))\n",
    "print(w)\n",
    "print('-'*50)\n",
    "print(np.transpose(w, (1,0,2,3)))\n",
    "print('-'*50)\n",
    "print(np.mean(w,axis=0))"
   ]
  },
  {
   "cell_type": "code",
   "execution_count": 38,
   "metadata": {
    "collapsed": false
   },
   "outputs": [
    {
     "data": {
      "text/plain": [
       "array([[[ 0.,  0.,  0.,  0.,  0.,  0.,  0.],\n",
       "        [ 0.,  0.,  0.,  0.,  0.,  0.,  0.],\n",
       "        [ 0.,  0.,  1.,  1.,  1.,  0.,  0.],\n",
       "        [ 0.,  0.,  1.,  1.,  1.,  0.,  0.],\n",
       "        [ 0.,  0.,  1.,  1.,  1.,  0.,  0.],\n",
       "        [ 0.,  0.,  0.,  0.,  0.,  0.,  0.],\n",
       "        [ 0.,  0.,  0.,  0.,  0.,  0.,  0.]],\n",
       "\n",
       "       [[ 0.,  0.,  0.,  0.,  0.,  0.,  0.],\n",
       "        [ 0.,  0.,  0.,  0.,  0.,  0.,  0.],\n",
       "        [ 0.,  0.,  1.,  1.,  1.,  0.,  0.],\n",
       "        [ 0.,  0.,  1.,  1.,  1.,  0.,  0.],\n",
       "        [ 0.,  0.,  1.,  1.,  1.,  0.,  0.],\n",
       "        [ 0.,  0.,  0.,  0.,  0.,  0.,  0.],\n",
       "        [ 0.,  0.,  0.,  0.,  0.,  0.,  0.]],\n",
       "\n",
       "       [[ 0.,  0.,  0.,  0.,  0.,  0.,  0.],\n",
       "        [ 0.,  0.,  0.,  0.,  0.,  0.,  0.],\n",
       "        [ 0.,  0.,  1.,  1.,  1.,  0.,  0.],\n",
       "        [ 0.,  0.,  1.,  1.,  1.,  0.,  0.],\n",
       "        [ 0.,  0.,  1.,  1.,  1.,  0.,  0.],\n",
       "        [ 0.,  0.,  0.,  0.,  0.,  0.,  0.],\n",
       "        [ 0.,  0.,  0.,  0.,  0.,  0.,  0.]]])"
      ]
     },
     "execution_count": 38,
     "metadata": {},
     "output_type": "execute_result"
    }
   ],
   "source": [
    "np.pad(a, mode='constant', pad_width=[(0,0),(2,2),(2,2)])"
   ]
  },
  {
   "cell_type": "code",
   "execution_count": 40,
   "metadata": {
    "collapsed": false
   },
   "outputs": [
    {
     "data": {
      "text/plain": [
       "1"
      ]
     },
     "execution_count": 40,
     "metadata": {},
     "output_type": "execute_result"
    }
   ],
   "source": [
    "int(1.5)"
   ]
  }
 ],
 "metadata": {
  "kernelspec": {
   "display_name": "Python 3",
   "language": "python",
   "name": "python3"
  },
  "language_info": {
   "codemirror_mode": {
    "name": "ipython",
    "version": 3
   },
   "file_extension": ".py",
   "mimetype": "text/x-python",
   "name": "python",
   "nbconvert_exporter": "python",
   "pygments_lexer": "ipython3",
   "version": "3.5.2"
  },
  "toc": {
   "colors": {
    "hover_highlight": "#DAA520",
    "navigate_num": "#000000",
    "navigate_text": "#333333",
    "running_highlight": "#FF0000",
    "selected_highlight": "#FFD700",
    "sidebar_border": "#EEEEEE",
    "wrapper_background": "#FFFFFF"
   },
   "moveMenuLeft": true,
   "nav_menu": {
    "height": "12px",
    "width": "252px"
   },
   "navigate_menu": true,
   "number_sections": true,
   "sideBar": true,
   "threshold": 4,
   "toc_cell": false,
   "toc_section_display": "block",
   "toc_window_display": false,
   "widenNotebook": false
  }
 },
 "nbformat": 4,
 "nbformat_minor": 0
}
