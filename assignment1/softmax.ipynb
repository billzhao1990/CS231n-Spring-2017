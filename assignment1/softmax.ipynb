{
 "cells": [
  {
   "cell_type": "markdown",
   "metadata": {},
   "source": [
    "# Softmax exercise\n",
    "\n",
    "*Complete and hand in this completed worksheet (including its outputs and any supporting code outside of the worksheet) with your assignment submission. For more details see the [assignments page](http://vision.stanford.edu/teaching/cs231n/assignments.html) on the course website.*\n",
    "\n",
    "This exercise is analogous to the SVM exercise. You will:\n",
    "\n",
    "- implement a fully-vectorized **loss function** for the Softmax classifier\n",
    "- implement the fully-vectorized expression for its **analytic gradient**\n",
    "- **check your implementation** with numerical gradient\n",
    "- use a validation set to **tune the learning rate and regularization** strength\n",
    "- **optimize** the loss function with **SGD**\n",
    "- **visualize** the final learned weights\n"
   ]
  },
  {
   "cell_type": "code",
   "execution_count": 1,
   "metadata": {
    "collapsed": false
   },
   "outputs": [],
   "source": [
    "import random\n",
    "import numpy as np\n",
    "from cs231n.data_utils import load_CIFAR10\n",
    "import matplotlib.pyplot as plt\n",
    "\n",
    "from __future__ import print_function\n",
    "\n",
    "%matplotlib inline\n",
    "plt.rcParams['figure.figsize'] = (10.0, 8.0) # set default size of plots\n",
    "plt.rcParams['image.interpolation'] = 'nearest'\n",
    "plt.rcParams['image.cmap'] = 'gray'\n",
    "\n",
    "# for auto-reloading extenrnal modules\n",
    "# see http://stackoverflow.com/questions/1907993/autoreload-of-modules-in-ipython\n",
    "%load_ext autoreload\n",
    "%autoreload 2"
   ]
  },
  {
   "cell_type": "code",
   "execution_count": 2,
   "metadata": {
    "collapsed": false
   },
   "outputs": [
    {
     "name": "stdout",
     "output_type": "stream",
     "text": [
      "Train data shape:  (49000, 3073)\n",
      "Train labels shape:  (49000,)\n",
      "Validation data shape:  (1000, 3073)\n",
      "Validation labels shape:  (1000,)\n",
      "Test data shape:  (1000, 3073)\n",
      "Test labels shape:  (1000,)\n",
      "dev data shape:  (500, 3073)\n",
      "dev labels shape:  (500,)\n"
     ]
    }
   ],
   "source": [
    "def get_CIFAR10_data(num_training=49000, num_validation=1000, num_test=1000, num_dev=500):\n",
    "    \"\"\"\n",
    "    Load the CIFAR-10 dataset from disk and perform preprocessing to prepare\n",
    "    it for the linear classifier. These are the same steps as we used for the\n",
    "    SVM, but condensed to a single function.  \n",
    "    \"\"\"\n",
    "    # Load the raw CIFAR-10 data\n",
    "    cifar10_dir = 'cs231n/datasets/cifar-10-batches-py'\n",
    "    X_train, y_train, X_test, y_test = load_CIFAR10(cifar10_dir)\n",
    "    \n",
    "    # subsample the data\n",
    "    mask = list(range(num_training, num_training + num_validation))\n",
    "    X_val = X_train[mask]\n",
    "    y_val = y_train[mask]\n",
    "    mask = list(range(num_training))\n",
    "    X_train = X_train[mask]\n",
    "    y_train = y_train[mask]\n",
    "    mask = list(range(num_test))\n",
    "    X_test = X_test[mask]\n",
    "    y_test = y_test[mask]\n",
    "    mask = np.random.choice(num_training, num_dev, replace=False)\n",
    "    X_dev = X_train[mask]\n",
    "    y_dev = y_train[mask]\n",
    "    \n",
    "    # Preprocessing: reshape the image data into rows\n",
    "    X_train = np.reshape(X_train, (X_train.shape[0], -1))\n",
    "    X_val = np.reshape(X_val, (X_val.shape[0], -1))\n",
    "    X_test = np.reshape(X_test, (X_test.shape[0], -1))\n",
    "    X_dev = np.reshape(X_dev, (X_dev.shape[0], -1))\n",
    "    \n",
    "    # Normalize the data: subtract the mean image\n",
    "    mean_image = np.mean(X_train, axis = 0)\n",
    "    X_train -= mean_image\n",
    "    X_val -= mean_image\n",
    "    X_test -= mean_image\n",
    "    X_dev -= mean_image\n",
    "    \n",
    "    # add bias dimension and transform into columns\n",
    "    X_train = np.hstack([X_train, np.ones((X_train.shape[0], 1))])\n",
    "    X_val = np.hstack([X_val, np.ones((X_val.shape[0], 1))])\n",
    "    X_test = np.hstack([X_test, np.ones((X_test.shape[0], 1))])\n",
    "    X_dev = np.hstack([X_dev, np.ones((X_dev.shape[0], 1))])\n",
    "    \n",
    "    return X_train, y_train, X_val, y_val, X_test, y_test, X_dev, y_dev\n",
    "\n",
    "\n",
    "# Invoke the above function to get our data.\n",
    "X_train, y_train, X_val, y_val, X_test, y_test, X_dev, y_dev = get_CIFAR10_data()\n",
    "print('Train data shape: ', X_train.shape)\n",
    "print('Train labels shape: ', y_train.shape)\n",
    "print('Validation data shape: ', X_val.shape)\n",
    "print('Validation labels shape: ', y_val.shape)\n",
    "print('Test data shape: ', X_test.shape)\n",
    "print('Test labels shape: ', y_test.shape)\n",
    "print('dev data shape: ', X_dev.shape)\n",
    "print('dev labels shape: ', y_dev.shape)"
   ]
  },
  {
   "cell_type": "markdown",
   "metadata": {},
   "source": [
    "## Softmax Classifier\n",
    "\n",
    "Your code for this section will all be written inside **cs231n/classifiers/softmax.py**. \n"
   ]
  },
  {
   "cell_type": "code",
   "execution_count": 17,
   "metadata": {
    "collapsed": false
   },
   "outputs": [
    {
     "name": "stdout",
     "output_type": "stream",
     "text": [
      "loss: 2.333027\n",
      "sanity check: 2.302585\n"
     ]
    }
   ],
   "source": [
    "# First implement the naive softmax loss function with nested loops.\n",
    "# Open the file cs231n/classifiers/softmax.py and implement the\n",
    "# softmax_loss_naive function.\n",
    "\n",
    "from cs231n.classifiers.softmax import softmax_loss_naive\n",
    "import time\n",
    "\n",
    "# Generate a random softmax weight matrix and use it to compute the loss.\n",
    "W = np.random.randn(3073, 10) * 0.0001\n",
    "loss, grad = softmax_loss_naive(W, X_dev, y_dev, 0.0)\n",
    "\n",
    "# As a rough sanity check, our loss should be something close to -log(0.1).\n",
    "print('loss: %f' % loss)\n",
    "print('sanity check: %f' % (-np.log(0.1)))"
   ]
  },
  {
   "cell_type": "markdown",
   "metadata": {},
   "source": [
    "## Inline Question 1:\n",
    "Why do we expect our loss to be close to -log(0.1)? Explain briefly.**\n",
    "\n",
    "**Your answer:** *Fill this in*\n",
    "\n",
    "- For an arbitrary example, the chance of hitting the right answer through random selection is 0.1 (1/10). Then by definition the loss value is -log(0.1)"
   ]
  },
  {
   "cell_type": "code",
   "execution_count": 39,
   "metadata": {
    "collapsed": false
   },
   "outputs": [
    {
     "name": "stdout",
     "output_type": "stream",
     "text": [
      "numerical: -1.479844 analytic: -1.479844, relative error: 1.782147e-09\n",
      "numerical: 1.100589 analytic: 1.100589, relative error: 3.442954e-08\n",
      "numerical: 1.441948 analytic: 1.441948, relative error: 4.729376e-08\n",
      "numerical: 0.882819 analytic: 0.882819, relative error: 1.348912e-07\n",
      "numerical: -0.883276 analytic: -0.883276, relative error: 1.263262e-07\n",
      "numerical: -0.733017 analytic: -0.733017, relative error: 5.324849e-08\n",
      "numerical: 1.943821 analytic: 1.943821, relative error: 2.261808e-08\n",
      "numerical: 2.068780 analytic: 2.068780, relative error: 8.268541e-09\n",
      "numerical: -2.981932 analytic: -2.981932, relative error: 3.301819e-08\n",
      "numerical: 0.876112 analytic: 0.876112, relative error: 5.323699e-09\n",
      "numerical: 0.538905 analytic: 0.538905, relative error: 3.651186e-09\n",
      "numerical: -1.704399 analytic: -1.704399, relative error: 1.612388e-08\n",
      "numerical: 0.021751 analytic: 0.021751, relative error: 7.649066e-07\n",
      "numerical: -0.723039 analytic: -0.723039, relative error: 1.361390e-08\n",
      "numerical: -0.548528 analytic: -0.548528, relative error: 2.824811e-09\n",
      "numerical: 0.852736 analytic: 0.852736, relative error: 5.601555e-08\n",
      "numerical: 1.714801 analytic: 1.714801, relative error: 6.015610e-08\n",
      "numerical: 2.056742 analytic: 2.056742, relative error: 1.506802e-08\n",
      "numerical: -0.478372 analytic: -0.478372, relative error: 1.922909e-07\n",
      "numerical: -0.758759 analytic: -0.758759, relative error: 5.663333e-08\n"
     ]
    }
   ],
   "source": [
    "# Complete the implementation of softmax_loss_naive and implement a (naive)\n",
    "# version of the gradient that uses nested loops.\n",
    "loss, grad = softmax_loss_naive(W, X_dev, y_dev, 0.0)\n",
    "\n",
    "# As we did for the SVM, use numeric gradient checking as a debugging tool.\n",
    "# The numeric gradient should be close to the analytic gradient.\n",
    "from cs231n.gradient_check import grad_check_sparse\n",
    "f = lambda w: softmax_loss_naive(w, X_dev, y_dev, 0.0)[0]\n",
    "grad_numerical = grad_check_sparse(f, W, grad, 10)\n",
    "\n",
    "# similar to SVM case, do another gradient check with regularization\n",
    "loss, grad = softmax_loss_naive(W, X_dev, y_dev, 5e1)\n",
    "f = lambda w: softmax_loss_naive(w, X_dev, y_dev, 5e1)[0]\n",
    "grad_numerical = grad_check_sparse(f, W, grad, 10)"
   ]
  },
  {
   "cell_type": "code",
   "execution_count": 60,
   "metadata": {
    "collapsed": false
   },
   "outputs": [
    {
     "name": "stdout",
     "output_type": "stream",
     "text": [
      "naive loss: 2.333027e+00 computed in 0.067715s\n",
      "(500, 10)\n",
      "(500,)\n",
      "(500, 10)\n",
      "(3073, 10)\n",
      "(3073, 10)\n",
      "vectorized loss: 2.333027e+00 computed in 0.018437s\n",
      "Loss difference: 0.000000\n",
      "Gradient difference: 0.000000\n"
     ]
    }
   ],
   "source": [
    "# Now that we have a naive implementation of the softmax loss function and its gradient,\n",
    "# implement a vectorized version in softmax_loss_vectorized.\n",
    "# The two versions should compute the same results, but the vectorized version should be\n",
    "# much faster.\n",
    "tic = time.time()\n",
    "loss_naive, grad_naive = softmax_loss_naive(W, X_dev, y_dev, 0.000005)\n",
    "toc = time.time()\n",
    "print('naive loss: %e computed in %fs' % (loss_naive, toc - tic))\n",
    "\n",
    "from cs231n.classifiers.softmax import softmax_loss_vectorized\n",
    "tic = time.time()\n",
    "loss_vectorized, grad_vectorized = softmax_loss_vectorized(W, X_dev, y_dev, 0.000005)\n",
    "toc = time.time()\n",
    "print('vectorized loss: %e computed in %fs' % (loss_vectorized, toc - tic))\n",
    "\n",
    "# As we did for the SVM, we use the Frobenius norm to compare the two versions\n",
    "# of the gradient.\n",
    "grad_difference = np.linalg.norm(grad_naive - grad_vectorized, ord='fro')\n",
    "print('Loss difference: %f' % np.abs(loss_naive - loss_vectorized))\n",
    "print('Gradient difference: %f' % grad_difference)"
   ]
  },
  {
   "cell_type": "code",
   "execution_count": 62,
   "metadata": {
    "collapsed": false
   },
   "outputs": [
    {
     "name": "stdout",
     "output_type": "stream",
     "text": [
      "iteration 0 / 500: loss 775.094055\n",
      "iteration 100 / 500: loss 284.774091\n",
      "iteration 200 / 500: loss 105.470507\n",
      "iteration 300 / 500: loss 39.939331\n",
      "iteration 400 / 500: loss 15.960799\n",
      "iteration 0 / 500: loss 779.906812\n",
      "iteration 100 / 500: loss 286.321006\n",
      "iteration 200 / 500: loss 106.019371\n",
      "iteration 300 / 500: loss 40.159316\n",
      "iteration 400 / 500: loss 15.998181\n",
      "iteration 0 / 500: loss 775.595801\n",
      "iteration 100 / 500: loss 284.541590\n",
      "iteration 200 / 500: loss 105.437643\n",
      "iteration 300 / 500: loss 39.929086\n",
      "iteration 400 / 500: loss 15.921370\n",
      "iteration 0 / 500: loss 765.469917\n",
      "iteration 100 / 500: loss 280.851754\n",
      "iteration 200 / 500: loss 104.018112\n",
      "iteration 300 / 500: loss 39.467800\n",
      "iteration 400 / 500: loss 15.797074\n",
      "iteration 0 / 500: loss 770.176479\n",
      "iteration 100 / 500: loss 282.679073\n",
      "iteration 200 / 500: loss 104.752795\n",
      "iteration 300 / 500: loss 39.655019\n",
      "iteration 400 / 500: loss 15.881786\n",
      "1e-07 25000.0 0.310469387755 0.307183673469\n",
      "iteration 0 / 500: loss 1531.399728\n",
      "iteration 100 / 500: loss 206.262223\n",
      "iteration 200 / 500: loss 29.425960\n",
      "iteration 300 / 500: loss 5.795257\n",
      "iteration 400 / 500: loss 2.641642\n",
      "iteration 0 / 500: loss 1526.976821\n",
      "iteration 100 / 500: loss 205.791782\n",
      "iteration 200 / 500: loss 29.315956\n",
      "iteration 300 / 500: loss 5.760030\n",
      "iteration 400 / 500: loss 2.638813\n",
      "iteration 0 / 500: loss 1538.715384\n",
      "iteration 100 / 500: loss 207.027036\n",
      "iteration 200 / 500: loss 29.448862\n",
      "iteration 300 / 500: loss 5.788410\n",
      "iteration 400 / 500: loss 2.593163\n",
      "iteration 0 / 500: loss 1532.785431\n",
      "iteration 100 / 500: loss 206.360071\n",
      "iteration 200 / 500: loss 29.370649\n",
      "iteration 300 / 500: loss 5.808101\n",
      "iteration 400 / 500: loss 2.660422\n",
      "iteration 0 / 500: loss 1550.551644\n",
      "iteration 100 / 500: loss 208.964827\n",
      "iteration 200 / 500: loss 29.761157\n",
      "iteration 300 / 500: loss 5.862206\n",
      "iteration 400 / 500: loss 2.676022\n",
      "1e-07 50000.0 0.308959183673 0.30793877551\n",
      "iteration 0 / 500: loss 767.270816\n",
      "iteration 100 / 500: loss 6.894618\n",
      "iteration 200 / 500: loss 2.121830\n",
      "iteration 300 / 500: loss 2.063515\n",
      "iteration 400 / 500: loss 2.040518\n",
      "iteration 0 / 500: loss 776.813585\n",
      "iteration 100 / 500: loss 6.900791\n",
      "iteration 200 / 500: loss 2.125244\n",
      "iteration 300 / 500: loss 2.076850\n",
      "iteration 400 / 500: loss 2.136209\n",
      "iteration 0 / 500: loss 772.134717\n",
      "iteration 100 / 500: loss 6.882611\n",
      "iteration 200 / 500: loss 2.168984\n",
      "iteration 300 / 500: loss 2.067731\n",
      "iteration 400 / 500: loss 2.029872\n",
      "iteration 0 / 500: loss 766.213224\n",
      "iteration 100 / 500: loss 6.880060\n",
      "iteration 200 / 500: loss 2.111911\n",
      "iteration 300 / 500: loss 2.085864\n",
      "iteration 400 / 500: loss 2.058431\n",
      "iteration 0 / 500: loss 773.125505\n",
      "iteration 100 / 500: loss 6.948351\n",
      "iteration 200 / 500: loss 2.131334\n",
      "iteration 300 / 500: loss 2.071108\n",
      "iteration 400 / 500: loss 2.059105\n",
      "5e-07 25000.0 0.324658163265 0.32206122449\n",
      "iteration 0 / 500: loss 1538.596060\n",
      "iteration 100 / 500: loss 2.209344\n",
      "iteration 200 / 500: loss 2.183698\n",
      "iteration 300 / 500: loss 2.155738\n",
      "iteration 400 / 500: loss 2.191131\n",
      "iteration 0 / 500: loss 1528.268078\n",
      "iteration 100 / 500: loss 2.233152\n",
      "iteration 200 / 500: loss 2.129984\n",
      "iteration 300 / 500: loss 2.150635\n",
      "iteration 400 / 500: loss 2.139640\n",
      "iteration 0 / 500: loss 1526.075284\n",
      "iteration 100 / 500: loss 2.190217\n",
      "iteration 200 / 500: loss 2.219256\n",
      "iteration 300 / 500: loss 2.132000\n",
      "iteration 400 / 500: loss 2.166279\n",
      "iteration 0 / 500: loss 1536.213835\n",
      "iteration 100 / 500: loss 2.171952\n",
      "iteration 200 / 500: loss 2.107740\n",
      "iteration 300 / 500: loss 2.143999\n",
      "iteration 400 / 500: loss 2.134183\n",
      "iteration 0 / 500: loss 1528.913415\n",
      "iteration 100 / 500: loss 2.185296\n",
      "iteration 200 / 500: loss 2.138703\n",
      "iteration 300 / 500: loss 2.114430\n",
      "iteration 400 / 500: loss 2.116449\n",
      "5e-07 50000.0 0.300642857143 0.29912244898\n",
      "lr 1.000000e-07 reg 2.500000e+04 train accuracy: 0.310469 val accuracy: 0.307184\n",
      "lr 1.000000e-07 reg 5.000000e+04 train accuracy: 0.308959 val accuracy: 0.307939\n",
      "lr 5.000000e-07 reg 2.500000e+04 train accuracy: 0.324658 val accuracy: 0.322061\n",
      "lr 5.000000e-07 reg 5.000000e+04 train accuracy: 0.300643 val accuracy: 0.299122\n",
      "best validation accuracy achieved during cross-validation: 0.322061\n"
     ]
    }
   ],
   "source": [
    "# Use the validation set to tune hyperparameters (regularization strength and\n",
    "# learning rate). You should experiment with different ranges for the learning\n",
    "# rates and regularization strengths; if you are careful you should be able to\n",
    "# get a classification accuracy of over 0.35 on the validation set.\n",
    "from cs231n.classifiers import Softmax\n",
    "results = {}\n",
    "best_val = -1\n",
    "best_softmax = None\n",
    "learning_rates = [1e-7, 5e-7]\n",
    "regularization_strengths = [2.5e4, 5e4]\n",
    "\n",
    "################################################################################\n",
    "# TODO:                                                                        #\n",
    "# Use the validation set to set the learning rate and regularization strength. #\n",
    "# This should be identical to the validation that you did for the SVM; save    #\n",
    "# the best trained softmax classifer in best_softmax.                          #\n",
    "################################################################################\n",
    "#pass\n",
    "num_lr = len(learning_rates)\n",
    "num_reg = len(regularization_strengths)\n",
    "num_folds = 5\n",
    "\n",
    "X_train_folds = np.array_split(X_train, num_folds)\n",
    "y_train_folds = np.array_split(y_train, num_folds)\n",
    "for i in range(num_lr):\n",
    "    for j in range(num_reg):\n",
    "        train_accuracies = []\n",
    "        val_accuracies = []\n",
    "\n",
    "        lr = learning_rates[i]\n",
    "        reg = regularization_strengths[j]\n",
    "\n",
    "        for k in range(num_folds):\n",
    "            X_sub_train = np.concatenate(np.delete(X_train_folds, k, axis=0))\n",
    "            y_sub_train = np.concatenate(np.delete(y_train_folds, k, axis=0))\n",
    "\n",
    "            X_sub_test = X_train_folds[k]\n",
    "            y_sub_test = y_train_folds[k]\n",
    "\n",
    "            softmax = Softmax()\n",
    "            softmax.train(X_sub_train, y_sub_train, learning_rate=lr, reg=reg, num_iters=500,verbose=True)\n",
    "\n",
    "            y_sub_train_pred = softmax.predict(X_sub_train)\n",
    "            train_accuracies.append(np.mean(y_sub_train == y_sub_train_pred))\n",
    "\n",
    "            y_sub_test_pred = softmax.predict(X_sub_test)\n",
    "            val_accuracies.append(np.mean(y_sub_test == y_sub_test_pred))\n",
    "\n",
    "        mean_train_accuracy = np.mean(train_accuracies)\n",
    "        mean_val_accuracy = np.mean(val_accuracies)\n",
    "        results[(lr, reg)] = (mean_train_accuracy, mean_val_accuracy)\n",
    "        print(lr, reg, mean_train_accuracy, mean_val_accuracy)\n",
    "        if mean_val_accuracy > best_val:\n",
    "            best_val = mean_val_accuracy\n",
    "            best_softmax = softmax\n",
    "################################################################################\n",
    "#                              END OF YOUR CODE                                #\n",
    "################################################################################\n",
    "    \n",
    "# Print out results.\n",
    "for lr, reg in sorted(results):\n",
    "    train_accuracy, val_accuracy = results[(lr, reg)]\n",
    "    print('lr %e reg %e train accuracy: %f val accuracy: %f' % (\n",
    "                lr, reg, train_accuracy, val_accuracy))\n",
    "    \n",
    "print('best validation accuracy achieved during cross-validation: %f' % best_val)"
   ]
  },
  {
   "cell_type": "code",
   "execution_count": 63,
   "metadata": {
    "collapsed": false
   },
   "outputs": [
    {
     "name": "stdout",
     "output_type": "stream",
     "text": [
      "softmax on raw pixels final test set accuracy: 0.349000\n"
     ]
    }
   ],
   "source": [
    "# evaluate on test set\n",
    "# Evaluate the best softmax on test set\n",
    "y_test_pred = best_softmax.predict(X_test)\n",
    "test_accuracy = np.mean(y_test == y_test_pred)\n",
    "print('softmax on raw pixels final test set accuracy: %f' % (test_accuracy, ))"
   ]
  },
  {
   "cell_type": "code",
   "execution_count": 64,
   "metadata": {
    "collapsed": false
   },
   "outputs": [
    {
     "data": {
      "image/png": "[encoded data removed]",
      "text/plain": [
       "<matplotlib.figure.Figure at 0x7ff0cd31f8d0>"
      ]
     },
     "metadata": {},
     "output_type": "display_data"
    }
   ],
   "source": [
    "# Visualize the learned weights for each class\n",
    "w = best_softmax.W[:-1,:] # strip out the bias\n",
    "w = w.reshape(32, 32, 3, 10)\n",
    "\n",
    "w_min, w_max = np.min(w), np.max(w)\n",
    "\n",
    "classes = ['plane', 'car', 'bird', 'cat', 'deer', 'dog', 'frog', 'horse', 'ship', 'truck']\n",
    "for i in range(10):\n",
    "    plt.subplot(2, 5, i + 1)\n",
    "    \n",
    "    # Rescale the weights to be between 0 and 255\n",
    "    wimg = 255.0 * (w[:, :, :, i].squeeze() - w_min) / (w_max - w_min)\n",
    "    plt.imshow(wimg.astype('uint8'))\n",
    "    plt.axis('off')\n",
    "    plt.title(classes[i])"
   ]
  }
 ],
 "metadata": {
  "kernelspec": {
   "display_name": "Python 2",
   "language": "python",
   "name": "python2"
  },
  "language_info": {
   "codemirror_mode": {
    "name": "ipython",
    "version": 2
   },
   "file_extension": ".py",
   "mimetype": "text/x-python",
   "name": "python",
   "nbconvert_exporter": "python",
   "pygments_lexer": "ipython2",
   "version": "2.7.12"
  }
 },
 "nbformat": 4,
 "nbformat_minor": 0
}
